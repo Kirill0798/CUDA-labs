{
 "cells": [
  {
   "cell_type": "code",
   "execution_count": null,
   "metadata": {
    "colab": {
     "base_uri": "https://localhost:8080/"
    },
    "id": "7joDZo9-7W2e",
    "outputId": "5c9eafd8-00b5-4b6c-c2c6-0ca88bf76847"
   },
   "outputs": [
    {
     "name": "stdout",
     "output_type": "stream",
     "text": [
      "Collecting pycuda\n",
      "\u001b[?25l  Downloading https://files.pythonhosted.org/packages/46/61/47d3235a4c13eec5a5f03594ddb268f4858734e02980afbcd806e6242fa5/pycuda-2020.1.tar.gz (1.6MB)\n",
      "\u001b[K     |████████████████████████████████| 1.6MB 8.8MB/s \n",
      "\u001b[?25hCollecting pytools>=2011.2\n",
      "\u001b[?25l  Downloading https://files.pythonhosted.org/packages/b7/30/c9362a282ef89106768cba9d884f4b2e4f5dc6881d0c19b478d2a710b82b/pytools-2020.4.3.tar.gz (62kB)\n",
      "\u001b[K     |████████████████████████████████| 71kB 9.9MB/s \n",
      "\u001b[?25hRequirement already satisfied: decorator>=3.2.0 in /usr/local/lib/python3.6/dist-packages (from pycuda) (4.4.2)\n",
      "Collecting appdirs>=1.4.0\n",
      "  Downloading https://files.pythonhosted.org/packages/3b/00/2344469e2084fb287c2e0b57b72910309874c3245463acd6cf5e3db69324/appdirs-1.4.4-py2.py3-none-any.whl\n",
      "Collecting mako\n",
      "\u001b[?25l  Downloading https://files.pythonhosted.org/packages/a6/37/0e706200d22172eb8fa17d68a7ae22dec7631a0a92266634fb518a88a5b2/Mako-1.1.3-py2.py3-none-any.whl (75kB)\n",
      "\u001b[K     |████████████████████████████████| 81kB 9.5MB/s \n",
      "\u001b[?25hRequirement already satisfied: six>=1.8.0 in /usr/local/lib/python3.6/dist-packages (from pytools>=2011.2->pycuda) (1.15.0)\n",
      "Requirement already satisfied: numpy>=1.6.0 in /usr/local/lib/python3.6/dist-packages (from pytools>=2011.2->pycuda) (1.18.5)\n",
      "Requirement already satisfied: dataclasses>=0.7 in /usr/local/lib/python3.6/dist-packages (from pytools>=2011.2->pycuda) (0.8)\n",
      "Requirement already satisfied: MarkupSafe>=0.9.2 in /usr/local/lib/python3.6/dist-packages (from mako->pycuda) (1.1.1)\n",
      "Building wheels for collected packages: pycuda, pytools\n",
      "  Building wheel for pycuda (setup.py) ... \u001b[?25l\u001b[?25hdone\n",
      "  Created wheel for pycuda: filename=pycuda-2020.1-cp36-cp36m-linux_x86_64.whl size=620900 sha256=4e030070165aa59143d5ce4f043a31b7036a32fd5c1a414b59eb6920a7d9e2f9\n",
      "  Stored in directory: /root/.cache/pip/wheels/8f/78/d1/5bb826f81d9d490297a348d818ff3ee6dd6f2075b06dde6ea0\n",
      "  Building wheel for pytools (setup.py) ... \u001b[?25l\u001b[?25hdone\n",
      "  Created wheel for pytools: filename=pytools-2020.4.3-py2.py3-none-any.whl size=61374 sha256=8ddddfb94d9468821570e0ad297f3daf7876a5a347df3e95181ed4cd68a4c991\n",
      "  Stored in directory: /root/.cache/pip/wheels/af/c7/81/a22edb90b0b09a880468b2253bb1df8e9f503337ee15432c64\n",
      "Successfully built pycuda pytools\n",
      "Installing collected packages: appdirs, pytools, mako, pycuda\n",
      "Successfully installed appdirs-1.4.4 mako-1.1.3 pycuda-2020.1 pytools-2020.4.3\n"
     ]
    }
   ],
   "source": [
    "!pip install pycuda"
   ]
  },
  {
   "cell_type": "code",
   "execution_count": null,
   "metadata": {
    "id": "s9mWn2RG1miN"
   },
   "outputs": [],
   "source": [
    "import numpy as np\n",
    "import sys\n",
    "import random\n",
    "from pycuda import compiler, gpuarray, tools\n",
    "import pycuda.driver as drv\n",
    "import pycuda.autoinit\n",
    "from timeit import default_timer as timer\n",
    "import matplotlib.pyplot as plt\n",
    "\n",
    "# number of polynomial params in each individual:\n",
    "N = 3\n",
    "BLOCK_SIZE = 16"
   ]
  },
  {
   "cell_type": "code",
   "execution_count": null,
   "metadata": {
    "id": "wcN4_BJJ8nXd"
   },
   "outputs": [],
   "source": [
    "def generate_first_population(count_parents):\n",
    "    return np.array([random.uniform(-1, 1) for i in range(count_parents * N)])\n"
   ]
  },
  {
   "cell_type": "code",
   "execution_count": null,
   "metadata": {
    "id": "pZ9seNsm8owj"
   },
   "outputs": [],
   "source": [
    "def fitness(count, count_ind, children):\n",
    "    fat_err, h = 0.0, 2 * np.pi / count\n",
    "    arr_ind = []\n",
    "\n",
    "    for i in range(count_ind):\n",
    "        for j in range(count):\n",
    "            err = 0.0\n",
    "            for k in range(N):\n",
    "                X = (j * h + h) ** k\n",
    "                err += children[i * N + k] * X\n",
    "\n",
    "            fat_err += (np.sin(j * h + h) - err) ** 2\n",
    "\n",
    "        arr_ind.append(fat_err)\n",
    "        fat_err = 0.0\n",
    "    return arr_ind\n"
   ]
  },
  {
   "cell_type": "code",
   "execution_count": null,
   "metadata": {
    "id": "tILoLRgE9FQe"
   },
   "outputs": [],
   "source": [
    "def select_best_parents(arr, count_individuals, count_parents, children):\n",
    "    indexes = [0] * count_parents\n",
    "    arr_min = []\n",
    "    bp = [None] * N * count_parents\n",
    "\n",
    "    for p in range(count_parents):\n",
    "        arr_min.append(sys.float_info.max)\n",
    "\n",
    "    for i in range(count_individuals):\n",
    "        if arr[i] < arr_min[0]:\n",
    "            arr_min[0] = arr[i]\n",
    "            indexes[0] = i\n",
    "\n",
    "    for p in range(1, count_parents):\n",
    "        for i in range(count_individuals):\n",
    "            if arr[i] > arr_min[p - 1] and arr[i] < arr_min[p]:\n",
    "                arr_min[p] = arr[i]\n",
    "                indexes[p] = i\n",
    "\n",
    "    for i in range(count_parents):\n",
    "        for j in range(N):\n",
    "            indexes[i] * N\n",
    "            bp[i * N + j] = children[indexes[i] * N + j]\n",
    "\n",
    "    return indexes, np.array(bp)\n"
   ]
  },
  {
   "cell_type": "code",
   "execution_count": null,
   "metadata": {
    "id": "kGU0S9nH9bEE"
   },
   "outputs": [],
   "source": [
    "kernel_code = \"\"\"\n",
    "#include \"cuda_runtime.h\"\n",
    "#include \"device_launch_parameters.h\"\n",
    "#include <curand_kernel.h>\n",
    "\n",
    "extern \"C\"\n",
    "    {\n",
    "    #define CURAND_CALL ( x ) do { if (( x ) != CURAND_STATUS_SUCCESS ) {\\\n",
    "    printf (\" Error at % s :% d \\ n \" , __FILE__ , __LINE__ ) ;\\\n",
    "    return EXIT_FAILURE ;}} while (0)\n",
    " __global__ void Breeding_GPU(int Em, int Dm, int count, int countInd, double* d_bP, int N, double* d_childrens) {\n",
    "\n",
    "  int countParents = 10;\n",
    "\tint index = blockIdx.x * blockDim.x + threadIdx.x;\n",
    "\tint stride = blockDim.x * gridDim.x;\n",
    "\n",
    "\tif(index < countParents){\n",
    "\t\tfor (int i = index; i < countParents; i += stride) {\n",
    "\t\t\tint countChildren = countInd / countParents;\n",
    "\t\t\tfor (int j = 0; j < countChildren; j++) {\n",
    "\n",
    "\t\t\t\tcurandState state;\n",
    "\t\t\t\tcurand_init((unsigned long long)clock() + index, 0, 0, &state);\n",
    "\n",
    "\t\t\t\tint n = floor(curand_uniform_double(&state) * N);\n",
    "\n",
    "\t\t\t\tfor (int k = 0; k < n; k++) {\n",
    "\t\t\t\t\td_childrens[i * countChildren * N + j * N + k] = d_bP[i * N + k];\n",
    "\t\t\t\t}\n",
    "\n",
    "\t\t\t\tfor (int k = n; k < N; k++) {\n",
    "\t\t\t\t\td_childrens[i * countChildren * N + j * N + k] = d_bP[(countParents - i) * N + k];\n",
    "\t\t\t\t}\n",
    "\t\t\t\tcurand_init((unsigned long long)clock() + index, 0, 0, &state);\n",
    "\n",
    "\t\t\t\tif (curand_uniform_double(&state) > 0.5) {\n",
    "\n",
    "\t\t\t\t\tdouble d = Dm * curand_uniform_double(&state);\n",
    "\t\t\t\t\tdouble m = Em;\n",
    "\t\t\t\t\tif (curand_uniform_double(&state) > 0.5)\n",
    "\t\t\t\t\t\tm += d;\n",
    "\t\t\t\t\telse\n",
    "\t\t\t\t\t\tm -= d;\n",
    "\t\t\t\t\tint nn = (int)(curand_uniform_double(&state) * N);\n",
    "\t\t\t\t\tif (curand_uniform_double(&state) > 0.5)\n",
    "\t\t\t\t\t\td_childrens[i * countChildren * N + j * N + nn] += m;\n",
    "\t\t\t\t\telse\n",
    "\t\t\t\t\t\td_childrens[i * countChildren * N + j * N + nn] -= m;\n",
    "\t\t\t\t}\n",
    "\t\t\t}\n",
    "\t\t}\n",
    "\t}\t\t\n",
    "}\n",
    "}\n",
    "\"\"\""
   ]
  },
  {
   "cell_type": "code",
   "execution_count": null,
   "metadata": {
    "id": "1aW8gOgo_c2f"
   },
   "outputs": [],
   "source": [
    "# compile the kernel code\n",
    "mod = compiler.SourceModule(kernel_code, keep=False, no_extern_c=True)\n",
    "\n",
    "# get the kernel function from the compiled module\n",
    "Breeding_GPU = mod.get_function(\"Breeding_GPU\")\n"
   ]
  },
  {
   "cell_type": "code",
   "execution_count": null,
   "metadata": {
    "id": "Y0MIDkyeD25w"
   },
   "outputs": [],
   "source": [
    "def plot_epochs_graph(epochs):\n",
    "  x = [i[0] for i in epochs]\n",
    "  y = [i[1] for i in epochs] \n",
    "  plt.plot(x, y)\n",
    "  plt.show()"
   ]
  },
  {
   "cell_type": "code",
   "execution_count": null,
   "metadata": {
    "colab": {
     "base_uri": "https://localhost:8080/",
     "height": 555.0
    },
    "id": "a7nmMu2J-b9C",
    "outputId": "7ccc27f5-a22c-48c4-d297-cf2cfd6de4b4"
   },
   "outputs": [
    {
     "name": "stdout",
     "output_type": "stream",
     "text": [
      "1000\n",
      "1000\n",
      "1\n",
      "4\n",
      "10\n",
      "100\n",
      "100\n"
     ]
    },
    {
     "name": "stderr",
     "output_type": "stream",
     "text": [
      "/usr/local/lib/python3.6/dist-packages/ipykernel_launcher.py:12: RuntimeWarning: overflow encountered in add\n",
      "  if sys.path[0] == '':\n",
      "/usr/local/lib/python3.6/dist-packages/ipykernel_launcher.py:12: RuntimeWarning: overflow encountered in square\n",
      "  if sys.path[0] == '':\n",
      "/usr/local/lib/python3.6/dist-packages/ipykernel_launcher.py:10: RuntimeWarning: overflow encountered in multiply\n",
      "  # Remove the CWD from sys.path while we load stuff.\n",
      "/usr/local/lib/python3.6/dist-packages/ipykernel_launcher.py:10: RuntimeWarning: invalid value encountered in multiply\n",
      "  # Remove the CWD from sys.path while we load stuff.\n"
     ]
    },
    {
     "name": "stdout",
     "output_type": "stream",
     "text": [
      "min:  [1018.75433] epoch:  8\n",
      "[4.74962e-40] *x^ 0 +  [0.85527503] *x^ 1 +  [-0.15142743] *x^ 2 GPU_time:  9.812812998916343e-05\n"
     ]
    },
    {
     "data": {
      "image/png": "[encoded data removed]",
      "text/plain": [
       "<Figure size 432x288 with 1 Axes>"
      ]
     },
     "metadata": {
      "tags": [],
      "needs_background": "light"
     },
     "output_type": "display_data"
    }
   ],
   "source": [
    "print(\"Enter count of points (500 - 1000):\")\n",
    "count = int(input())\n",
    "\n",
    "print(\"Enter count of individuals (1000 - 2000):\")\n",
    "count_ind = int(input())\n",
    "\n",
    "print(\"Enter mean for Mutation:\")\n",
    "Em = float(input())\n",
    "\n",
    "print(\"Enter varience for Mutation:\")\n",
    "Dm = float(input())\n",
    "\n",
    "print(\"Enter count pair of parents:\")\n",
    "count_parents = int(input())\n",
    "\n",
    "count_parents *= 2\n",
    "\n",
    "print(\"# Enter maximal count of epochs:\")\n",
    "max_iter = int(input())\n",
    "\n",
    "print(\"# Enter maximal count of epochs with same results:\")\n",
    "max_const_iter = int(input())\n",
    "\n",
    "best_parents = generate_first_population(count_parents)\n",
    "\n",
    "min, val = sys.float_info.max, sys.float_info.max\n",
    "\n",
    "ind_best, same_iter = 1, 1\n",
    "\n",
    "sum_time_gpu = 0\n",
    "\n",
    "grid = (count_parents * count_ind, 1)\n",
    "\n",
    "epochs = []\n",
    "\n",
    "for epoch in range(1, max_iter):\n",
    "    # time begin\n",
    "   # children = make_children(best_parents, count_parents, count_ind, Em, Dm)\n",
    "    best_parents_gpu = gpuarray.to_gpu(best_parents)\n",
    "\n",
    "    children_gpu = gpuarray.empty((count_ind * N, 1), np.float32)\n",
    "\n",
    "    start_gpu = timer()\n",
    "    Breeding_GPU(\n",
    "        #inputs:\n",
    "        np.int32(Em), np.int32(Dm), np.int32(count), np.int32(count_ind), best_parents_gpu, np.int32(N),\n",
    "        #output:\n",
    "        children_gpu,\n",
    "        #grid:\n",
    "        grid=grid,\n",
    "        #block:\n",
    "        block=(BLOCK_SIZE, 1, 1)\n",
    "    )\n",
    "    sum_time_gpu += timer() - start_gpu\n",
    "\n",
    "    children = children_gpu.get()\n",
    "    arr_ind = fitness(count, count_ind, children)\n",
    "    indexes, best_parents = select_best_parents(arr_ind, count_ind, count_parents, children)\n",
    "\n",
    "    #print(\"Epoch \", epoch, \": \", arr_ind[indexes[0]])\n",
    "    epochs.append([epoch, arr_ind[indexes[0]]])\n",
    "    \n",
    "    if arr_ind[indexes[0]] < min:\n",
    "        min = arr_ind[indexes[0]]\n",
    "        ind_best = epoch\n",
    "\n",
    "    if val == arr_ind[indexes[0]]:\n",
    "        same_iter += 1\n",
    "\n",
    "    else:\n",
    "        val = arr_ind[indexes[0]]\n",
    "        same_iter = 1\n",
    "\n",
    "    if same_iter >= max_const_iter:\n",
    "        print(\"Same \", max_const_iter, \" iterations\")\n",
    "\n",
    "print(\"min: \", min, \"epoch: \", ind_best)\n",
    "\n",
    "for j in range(N):\n",
    "    print(best_parents[j], \"*x^\", j, end=' ')\n",
    "    if j + 1 < N:\n",
    "        print(\"+ \", end=' ')\n",
    "\n",
    "print(\"GPU_time: \", sum_time_gpu/max_iter) \n",
    "plot_epochs_graph(epochs)"
   ]
  }
 ],
 "metadata": {
  "colab": {
   "name": "genetic-algorithm-gpu.ipynb",
   "provenance": [],
   "collapsed_sections": []
  },
  "kernelspec": {
   "name": "python3",
   "display_name": "Python 3"
  },
  "accelerator": "GPU"
 },
 "nbformat": 4,
 "nbformat_minor": 0
}
