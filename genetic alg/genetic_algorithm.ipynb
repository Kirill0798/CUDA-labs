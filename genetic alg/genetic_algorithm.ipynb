{
 "cells": [
  {
   "cell_type": "code",
   "execution_count": null,
   "metadata": {
    "id": "6gb6JV3gz_sU"
   },
   "outputs": [],
   "source": [
    "import numpy as np\n",
    "import sys\n",
    "import random\n",
    "from timeit import default_timer as timer\n",
    "import matplotlib.pyplot as plt\n",
    "\n",
    "# number of polynomial params in each individual:\n",
    "N = 3\n",
    "BLOCK_SIZE = 16"
   ]
  },
  {
   "cell_type": "code",
   "execution_count": null,
   "metadata": {
    "id": "cGfk17sW0CYN"
   },
   "outputs": [],
   "source": [
    "def generate_first_population(count_parents):\n",
    "    return [random.uniform(-1, 1) for i in range(count_parents * N)]"
   ]
  },
  {
   "cell_type": "code",
   "execution_count": null,
   "metadata": {
    "id": "jJgvzA690GTq"
   },
   "outputs": [],
   "source": [
    "def fitness(count, count_ind, children):\n",
    "    fat_err, h = 0.0, 2 * np.pi / count\n",
    "    arr_ind = []\n",
    "\n",
    "    for i in range(count_ind):\n",
    "        for j in range(count):\n",
    "            err = 0.0\n",
    "            for k in range(N):\n",
    "                X = (j * h + h) ** k\n",
    "                err += children[i * N + k] * X\n",
    "\n",
    "            fat_err += (np.sin(j * h + h) - err) ** 2\n",
    "\n",
    "        arr_ind.append(fat_err)\n",
    "        fat_err = 0.0\n",
    "    return arr_ind"
   ]
  },
  {
   "cell_type": "code",
   "execution_count": null,
   "metadata": {
    "id": "DQzdNLlI0HMX"
   },
   "outputs": [],
   "source": [
    "def select_best_parents(arr, count_individuals, count_parents, children):\n",
    "    indexes = [0]\n",
    "    arr_min = []\n",
    "    bp = np.zeros(N * count_parents)\n",
    "\n",
    "    for p in range(count_parents):\n",
    "        arr_min.append(sys.float_info.max)\n",
    "\n",
    "    for i in range(count_individuals):\n",
    "        if arr[i] < arr_min[0]:\n",
    "            arr_min[0] = arr[i]\n",
    "            indexes[0] = i\n",
    "\n",
    "    for p in range(1, count_parents):\n",
    "        indexes.append(None)\n",
    "        for i in range(count_individuals):\n",
    "            if arr[i] > arr_min[p - 1] and arr[i] < arr_min[p]:\n",
    "                arr_min[p] = arr[i]\n",
    "                indexes[p] = i\n",
    "\n",
    "    for i in range(count_parents):\n",
    "        for j in range(N):\n",
    "            bp[i * N + j] = children[indexes[i] * N + j]\n",
    "\n",
    "    return indexes, bp\n"
   ]
  },
  {
   "cell_type": "code",
   "execution_count": null,
   "metadata": {
    "id": "wKkIzXx-0J6o"
   },
   "outputs": [],
   "source": [
    "def get_random_number(min, max):\n",
    "    return int(random.uniform(0, 1) * (max - min) + min)"
   ]
  },
  {
   "cell_type": "code",
   "execution_count": null,
   "metadata": {
    "id": "z4t6j1Du0NOa"
   },
   "outputs": [],
   "source": [
    "def crossover(parent_1, parent_2, child):\n",
    "    n = get_random_number(0, N)\n",
    "\n",
    "    child[0: n] = parent_1[0: n]\n",
    "    child[n: N] = parent_2[n: N]   \n",
    "     \n",
    "    return child"
   ]
  },
  {
   "cell_type": "code",
   "execution_count": null,
   "metadata": {
    "id": "U4g2-aDU0ONc"
   },
   "outputs": [],
   "source": [
    "def mutation(child, Em, Dm):\n",
    "    n = get_random_number(0, N)\n",
    "    d = Dm * random.uniform(0, 1)\n",
    "    m = Em\n",
    "\n",
    "    if random.uniform(0, 1) > 0.5:\n",
    "        m += d\n",
    "    else:\n",
    "        m -= d\n",
    "\n",
    "    if random.uniform(0, 1) > 0.5:\n",
    "        child[n] += m\n",
    "    else:\n",
    "        child[n] -= m\n",
    "\n",
    "    return child"
   ]
  },
  {
   "cell_type": "code",
   "execution_count": null,
   "metadata": {
    "id": "T695nFKv0SNs"
   },
   "outputs": [],
   "source": [
    "def make_children(parents, count_parents, count_ind, Em, Dm):\n",
    "    children = [0] * count_ind * N\n",
    "    p1, p2, child = [None] * N, [None] * N, [None] * N\n",
    "\n",
    "    for i in range(count_parents):\n",
    "        for k in range(N):\n",
    "            p1[k] = parents[i * N + k]\n",
    "            p2[k] = parents[(count_parents - i - 1) * N + k]\n",
    "\n",
    "        temp = int(count_ind / count_parents)\n",
    "\n",
    "        for j in range(temp):\n",
    "            child = crossover(p1, p2, child)\n",
    "\n",
    "            if random.uniform(0, 1) > 0.5:\n",
    "                child = mutation(child, Em, Dm)\n",
    "\n",
    "            for k in range(N):\n",
    "                children[i * temp + j * N + k] = child[k]\n",
    "    return children"
   ]
  },
  {
   "cell_type": "code",
   "execution_count": null,
   "metadata": {
    "id": "AwlqDjxbn2ek"
   },
   "outputs": [],
   "source": [
    "def plot_epochs_graph(epochs):\n",
    "  x = [i[0] for i in epochs]\n",
    "  y = [i[1] for i in epochs] \n",
    "  plt.plot(x, y)\n",
    "  plt.show()"
   ]
  },
  {
   "cell_type": "code",
   "execution_count": null,
   "metadata": {
    "colab": {
     "base_uri": "https://localhost:8080/",
     "height": 571.0
    },
    "id": "SPIlH_MP0TC4",
    "outputId": "65421bc0-25fc-4a29-eec6-35108d0f1a23"
   },
   "outputs": [
    {
     "name": "stdout",
     "output_type": "stream",
     "text": [
      "Enter count of points (500 - 1000):\n",
      "500\n",
      "Enter count of individuals (1000 - 2000):\n",
      "1500\n",
      "Enter mean for Mutation:\n",
      "0\n",
      "Enter varience for Mutation:\n",
      "4\n",
      "Enter count pair of parents:\n",
      "5\n",
      "# Enter maximal count of epochs:\n",
      "100\n",
      "# Enter maximal count of epochs with same results:\n",
      "100\n",
      "min:  102.38249197479365 epoch:  98\n",
      "1.1778997071208537 *x^ 0 -0.5102952228102802 *x^ 1 0.03307912344087449 *x^ 2 \n",
      "\n",
      "CPU_time:  0.004372554739993575\n"
     ]
    },
    {
     "data": {
      "image/png": "[encoded data removed]",
      "text/plain": [
       "<Figure size 432x288 with 1 Axes>"
      ]
     },
     "metadata": {
      "tags": [],
      "needs_background": "light"
     },
     "output_type": "display_data"
    }
   ],
   "source": [
    "print(\"Enter count of points (500 - 1000):\")\n",
    "count = int(input())\n",
    "\n",
    "print(\"Enter count of individuals (1000 - 2000):\")\n",
    "count_ind = int(input())\n",
    "\n",
    "print(\"Enter mean for Mutation:\")\n",
    "Em = float(input())\n",
    "\n",
    "print(\"Enter varience for Mutation:\")\n",
    "Dm = float(input())\n",
    "\n",
    "print(\"Enter count pair of parents:\")\n",
    "count_parents = int(input())\n",
    "\n",
    "count_parents *= 2\n",
    "\n",
    "print(\"# Enter maximal count of epochs:\")\n",
    "max_iter = int(input())\n",
    "\n",
    "print(\"# Enter maximal count of epochs with same results:\")\n",
    "max_const_iter = int(input())\n",
    "\n",
    "best_parents = generate_first_population(count_parents)\n",
    "\n",
    "min, val = sys.float_info.max, sys.float_info.max\n",
    "ind_best, same_iter = 1, 1\n",
    "sum_time_cpu = 0\n",
    "epochs = []\n",
    "for epoch in range(1, max_iter):\n",
    "  start_cpu = timer()\n",
    "  children = make_children(best_parents, count_parents, count_ind, Em, Dm)\n",
    "  sum_time_cpu += timer() - start_cpu\n",
    "\n",
    "  arr_ind = fitness(count, count_ind, children)\n",
    "\n",
    "  indexes, best_parents = select_best_parents(arr_ind, count_ind, count_parents, children)\n",
    "\n",
    "  epochs.append([epoch, arr_ind[indexes[0]]])\n",
    "\n",
    "  if arr_ind[indexes[0]] < min:\n",
    "    min = arr_ind[indexes[0]]\n",
    "    ind_best = epoch\n",
    "\n",
    "  if val == arr_ind[indexes[0]]:\n",
    "    same_iter += 1\n",
    "\n",
    "  else:\n",
    "    val = arr_ind[indexes[0]]\n",
    "    same_iter = 1\n",
    "\n",
    "  if same_iter >= max_const_iter:\n",
    "    print(\"Same \", max_const_iter, \" iterations\")\n",
    "  \n",
    "print(\"min: \", min, \"epoch: \", ind_best)\n",
    "\n",
    "for j in range(N):\n",
    "  print(best_parents[j], \"*x^\", j, end=' ')\n",
    "\n",
    "print('\\n')\n",
    "print(\"CPU_time: \", sum_time_cpu/max_iter) \n",
    "plot_epochs_graph(epochs)"
   ]
  }
 ],
 "metadata": {
  "colab": {
   "name": "genetic algorithm",
   "provenance": [],
   "collapsed_sections": []
  },
  "kernelspec": {
   "name": "python3",
   "display_name": "Python 3"
  }
 },
 "nbformat": 4,
 "nbformat_minor": 0
}
