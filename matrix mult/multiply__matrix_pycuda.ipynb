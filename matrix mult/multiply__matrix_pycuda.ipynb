{
 "cells": [
  {
   "cell_type": "code",
   "execution_count": 1,
   "metadata": {
    "id": "2iyGT81u4WzR",
    "outputId": "c35bf7eb-fc9b-45d8-d7dd-6e536423bb29",
    "colab": {
     "base_uri": "https://localhost:8080/"
    }
   },
   "outputs": [
    {
     "name": "stdout",
     "output_type": "stream",
     "text": [
      "Collecting pycuda\n",
      "\u001b[?25l  Downloading https://files.pythonhosted.org/packages/46/61/47d3235a4c13eec5a5f03594ddb268f4858734e02980afbcd806e6242fa5/pycuda-2020.1.tar.gz (1.6MB)\n",
      "\u001b[K     |████████████████████████████████| 1.6MB 4.4MB/s \n",
      "\u001b[?25hCollecting pytools>=2011.2\n",
      "\u001b[?25l  Downloading https://files.pythonhosted.org/packages/b7/30/c9362a282ef89106768cba9d884f4b2e4f5dc6881d0c19b478d2a710b82b/pytools-2020.4.3.tar.gz (62kB)\n",
      "\u001b[K     |████████████████████████████████| 71kB 11.2MB/s \n",
      "\u001b[?25hRequirement already satisfied: decorator>=3.2.0 in /usr/local/lib/python3.6/dist-packages (from pycuda) (4.4.2)\n",
      "Collecting appdirs>=1.4.0\n",
      "  Downloading https://files.pythonhosted.org/packages/3b/00/2344469e2084fb287c2e0b57b72910309874c3245463acd6cf5e3db69324/appdirs-1.4.4-py2.py3-none-any.whl\n",
      "Collecting mako\n",
      "\u001b[?25l  Downloading https://files.pythonhosted.org/packages/a6/37/0e706200d22172eb8fa17d68a7ae22dec7631a0a92266634fb518a88a5b2/Mako-1.1.3-py2.py3-none-any.whl (75kB)\n",
      "\u001b[K     |████████████████████████████████| 81kB 8.5MB/s \n",
      "\u001b[?25hRequirement already satisfied: six>=1.8.0 in /usr/local/lib/python3.6/dist-packages (from pytools>=2011.2->pycuda) (1.15.0)\n",
      "Requirement already satisfied: numpy>=1.6.0 in /usr/local/lib/python3.6/dist-packages (from pytools>=2011.2->pycuda) (1.18.5)\n",
      "Requirement already satisfied: dataclasses>=0.7 in /usr/local/lib/python3.6/dist-packages (from pytools>=2011.2->pycuda) (0.7)\n",
      "Requirement already satisfied: MarkupSafe>=0.9.2 in /usr/local/lib/python3.6/dist-packages (from mako->pycuda) (1.1.1)\n",
      "Building wheels for collected packages: pycuda, pytools\n",
      "  Building wheel for pycuda (setup.py) ... \u001b[?25l\u001b[?25hdone\n",
      "  Created wheel for pycuda: filename=pycuda-2020.1-cp36-cp36m-linux_x86_64.whl size=621567 sha256=dead0aebe2d6d72ec3940f96016a27d85e96606eee95a6e11ecaaf4da1b5e5e9\n",
      "  Stored in directory: /root/.cache/pip/wheels/8f/78/d1/5bb826f81d9d490297a348d818ff3ee6dd6f2075b06dde6ea0\n",
      "  Building wheel for pytools (setup.py) ... \u001b[?25l\u001b[?25hdone\n",
      "  Created wheel for pytools: filename=pytools-2020.4.3-py2.py3-none-any.whl size=61374 sha256=513ddcfcc750e3999383cc9f382c021a8505f1d9494694ac473138cf4a18f401\n",
      "  Stored in directory: /root/.cache/pip/wheels/af/c7/81/a22edb90b0b09a880468b2253bb1df8e9f503337ee15432c64\n",
      "Successfully built pycuda pytools\n",
      "Installing collected packages: appdirs, pytools, mako, pycuda\n",
      "Successfully installed appdirs-1.4.4 mako-1.1.3 pycuda-2020.1 pytools-2020.4.3\n"
     ]
    }
   ],
   "source": [
    "!pip install pycuda"
   ]
  },
  {
   "cell_type": "code",
   "execution_count": null,
   "metadata": {
    "id": "sH7XYQWsbqnW"
   },
   "outputs": [],
   "source": [
    "import numpy as np\n",
    "from pycuda import compiler, gpuarray, tools\n",
    "import pycuda.driver as drv\n",
    "import pycuda.autoinit"
   ]
  },
  {
   "cell_type": "code",
   "execution_count": 70,
   "metadata": {
    "id": "5rKUjbx4Gie1"
   },
   "outputs": [],
   "source": [
    "MATRIX_SIZES = [128, 256, 512, 1024,2048]\n",
    "BLOCK_SIZE = 16"
   ]
  },
  {
   "cell_type": "code",
   "execution_count": 36,
   "metadata": {
    "id": "DsDUH9skFOgo"
   },
   "outputs": [],
   "source": [
    "kernel_code_template = \"\"\"\n",
    "__global__ void matrix_multiply(int matrixsize,float *a, float *b, float *c)\n",
    "{\n",
    "    // 2D Thread ID \n",
    "    int tx = blockDim.x*blockIdx.x + threadIdx.x; // Compute column index\n",
    "    int ty = blockDim.y*blockIdx.y + threadIdx.y; // Compute row index\n",
    "    // Each thread loads one row of M and one column of N, \n",
    "    //   to produce one element of P.\n",
    "    if((ty <matrixsize) && (tx < matrixsize))\n",
    "    {\n",
    "    // Pvalue is used to store the element of the matrix\n",
    "    // that is computed by the thread\n",
    "    float Pvalue = 0;\n",
    "    for(int k=0; k<matrixsize; ++k)\n",
    "    {\n",
    "    float Aelement = a[ty*matrixsize +k];\n",
    "    float Belement = b[k*matrixsize +tx];\n",
    "    Pvalue += Aelement * Belement;\n",
    "    }\n",
    "    c[ty * matrixsize + tx] = Pvalue;\n",
    "    }\n",
    "}\n",
    "\"\"\"\n",
    "\n",
    "# compile the kernel code\n",
    "mod = compiler.SourceModule(kernel_code_template)\n",
    "\n",
    "# get the kernel function from the compiled module\n",
    "matrix_multiply = mod.get_function(\"matrix_multiply\")"
   ]
  },
  {
   "cell_type": "code",
   "execution_count": 60,
   "metadata": {
    "id": "weTRG0-CGsh9"
   },
   "outputs": [],
   "source": [
    "def multiply_with_cpu(a, b):\n",
    "  return a.dot(b)"
   ]
  },
  {
   "cell_type": "code",
   "execution_count": 61,
   "metadata": {
    "id": "UpPd_mWyHXpN"
   },
   "outputs": [],
   "source": [
    "def multiply_with_gpu(a, b, MATRIX_SIZE):\n",
    "  # transfer host (CPU) memory to device (GPU) memory\n",
    "  a_gpu = gpuarray.to_gpu(a)\n",
    "  b_gpu = gpuarray.to_gpu(b)\n",
    "\n",
    "  # create empty gpu array for the result (C = A * B)\n",
    "  c_gpu = gpuarray.empty((MATRIX_SIZE, MATRIX_SIZE), np.float32)\n",
    "  # set grid size\n",
    "  #if MATRIX_SIZE%BLOCK_SIZE != 0:\n",
    "    #  grid=(MATRIX_SIZE//BLOCK_SIZE+1,MATRIX_SIZE//BLOCK_SIZE+1,1)\n",
    "  #else:\n",
    "  grid=(MATRIX_SIZE//BLOCK_SIZE,MATRIX_SIZE//BLOCK_SIZE,1)\n",
    "\n",
    "  # call the kernel on the card\n",
    "  matrix_multiply(np.uint32(MATRIX_SIZE),\n",
    "    # inputs\n",
    "    a_gpu, b_gpu,\n",
    "    # output\n",
    "    c_gpu,\n",
    "    grid=grid,\n",
    "    block = (BLOCK_SIZE, BLOCK_SIZE, 1),\n",
    "    )\n",
    "  return c_gpu  "
   ]
  },
  {
   "cell_type": "code",
   "execution_count": 62,
   "metadata": {
    "id": "l8uz60EaNgdk"
   },
   "outputs": [],
   "source": [
    "def calculate(a, b, MATRIX_SIZE):\n",
    "  start_cpu = timer()\n",
    "  c_cpu = multiply_with_cpu(a, b)\n",
    "  cpu_multiply_time = timer() - start_cpu\n",
    "\n",
    "  start_gpu = timer()\n",
    "  c_gpu = multiply_with_gpu(a, b, MATRIX_SIZE)\n",
    "  gpu_multiply_time = timer() - start_gpu\n",
    "  \n",
    "  return cpu_multiply_time * 1000, gpu_multiply_time * 1000, np.allclose(c_cpu, c_gpu.get())"
   ]
  },
  {
   "cell_type": "code",
   "execution_count": 71,
   "metadata": {
    "id": "_-YZhk-_PZ7n",
    "outputId": "547e052e-74c7-41c4-e678-f7dd9f34b444",
    "colab": {
     "base_uri": "https://localhost:8080/"
    }
   },
   "outputs": [
    {
     "name": "stdout",
     "output_type": "stream",
     "text": [
      " N \t CPU time \t GPU time \t Speedup\n",
      " 128 \t   0.122 \t   0.422 \t    0.29\n",
      " 256 \t   0.613 \t   0.615 \t    1.00\n",
      " 512 \t   4.498 \t   2.164 \t    2.08\n",
      "1024 \t  33.361 \t   9.894 \t    3.37\n",
      "2048 \t 258.712 \t  62.114 \t    4.17\n"
     ]
    }
   ],
   "source": [
    "count = 15\n",
    "\n",
    "print(\" N \\t CPU time \\t GPU time \\t Speedup\")\n",
    "\n",
    "for size in MATRIX_SIZES:\n",
    "  cpu_time = 0\n",
    "  gpu_time = 0\n",
    "\n",
    "  for i in range(count):\n",
    "    a = np.random.rand(size, size).astype(np.float32)\n",
    "    b = np.random.rand(size, size).astype(np.float32)\n",
    "\n",
    "    current_cpu_time, current_gpu_time, err = calculate(a, b, size)\n",
    "    cpu_time += current_cpu_time\n",
    "    gpu_time += current_gpu_time\n",
    "\n",
    "    if err is False:\n",
    "      print(\"N = {:d}: results not equals\".format(size))\n",
    "\n",
    "  print(\"{:4d} \\t {:7.3f} \\t {:7.3f} \\t {:7.2f}\".format(size, cpu_time / count, gpu_time / count, cpu_time / gpu_time))"
   ]
  }
 ],
 "metadata": {
  "colab": {
   "name": "multiply_.matrix_pycuda.ipynb",
   "provenance": [],
   "collapsed_sections": []
  },
  "kernelspec": {
   "name": "python3",
   "display_name": "Python 3"
  },
  "accelerator": "GPU"
 },
 "nbformat": 4,
 "nbformat_minor": 0
}
